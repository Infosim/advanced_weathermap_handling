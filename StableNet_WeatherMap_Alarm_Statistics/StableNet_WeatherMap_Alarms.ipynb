{
 "cells": [
  {
   "cell_type": "markdown",
   "metadata": {},
   "source": [
    "<center><img src='https://www.intel.com/content/dam/develop/external/us/en/images/infosim-logo-746616.png' style=\"width:300px\"></center>"
   ]
  },
  {
   "cell_type": "markdown",
   "metadata": {},
   "source": [
    "<h1 align=\"center\">StableNet® WeatherMap Handling </h1>\n",
    "<h2>Introduction</h2>\n",
    "This script gives a simple example on how to\n",
    "<ol>\n",
    "    <li>Load a WeatherMap from StableNet® using the REST API</li>\n",
    "    <li>Enhance the WeatherMap with advanced REST API calls to obtain alarms filtered for the selected element and add them as statistics</li>\n",
    "    <li>\"Re-Add\" the WeatherMap to the server as enhanced version using the REST API once more.</li>\n",
    "</ol>\n",
    "<h2>Import necessary python modules</h2>"
   ]
  },
  {
   "cell_type": "code",
   "execution_count": 1,
   "metadata": {},
   "outputs": [],
   "source": [
    "import warnings\n",
    "import requests\n",
    "from requests.auth import HTTPBasicAuth\n",
    "import getpass\n",
    "from xml.etree import ElementTree"
   ]
  },
  {
   "cell_type": "markdown",
   "metadata": {},
   "source": [
    "<h2>Enter Server Credentials & WeatherMapID to be used as base</h2>"
   ]
  },
  {
   "cell_type": "code",
   "execution_count": 6,
   "metadata": {},
   "outputs": [],
   "source": [
    "weathermapid = \"1058\"\n",
    "\n",
    "#Credentials\n",
    "server_ip = '10.20.20.113'\n",
    "server_port = '5443'\n",
    "username = 'infosim'"
   ]
  },
  {
   "cell_type": "markdown",
   "metadata": {},
   "source": [
    "<h2>Get Weather Map from Server and save XML to variable</h2>"
   ]
  },
  {
   "cell_type": "code",
   "execution_count": 7,
   "metadata": {},
   "outputs": [
    {
     "name": "stdin",
     "output_type": "stream",
     "text": [
      "Enter password: ··········\n"
     ]
    }
   ],
   "source": [
    "warnings.filterwarnings(\"ignore\")\n",
    "resp = requests.get(\"https://\"+server_ip+\":\"+server_port+\"/rest/weathermaps/get/\" + weathermapid, \n",
    "                    verify=False, auth=HTTPBasicAuth(username, getpass.getpass('Enter password:')))\n",
    "tree = ElementTree.fromstring(resp.content)"
   ]
  },
  {
   "cell_type": "markdown",
   "metadata": {},
   "source": [
    "<h2>Adding Alarms as Node Statistics to all Weather Map nodes</h2>"
   ]
  },
  {
   "cell_type": "code",
   "execution_count": 8,
   "metadata": {},
   "outputs": [
    {
     "name": "stdin",
     "output_type": "stream",
     "text": [
      "Enter password: ··········\n"
     ]
    },
    {
     "name": "stdout",
     "output_type": "stream",
     "text": [
      "[Adding alarms for device element with ID 1072]RRRSSSSR\n",
      "[Adding alarms for measurement element with ID 3834]\n",
      "[Adding alarms for measurement element with ID 3847]\n",
      "[Adding alarms for measurement element with ID 3848]\n",
      "[Adding alarms for measurement element with ID 3850]\n",
      "[Adding alarms for measurement element with ID 3750]\n",
      "[Adding alarms for measurement element with ID 3832]R\n",
      "[Adding alarms for measurement element with ID 3572]\n",
      "[Adding alarms for measurement element with ID 3573]\n",
      "[Adding alarms for measurement element with ID 3833]\n",
      "[Adding alarms for measurement element with ID 3836]\n",
      "[Adding alarms for measurement element with ID 4677]\n",
      "[Adding alarms for measurement element with ID 5277]\n"
     ]
    }
   ],
   "source": [
    "pw=getpass.getpass('Enter password:');\n",
    "for child in tree.findall('weathermapnodes/weathermapnode'):\n",
    "    \n",
    "\terefID=child.find('elementreference').get('obid')\n",
    "\terefDOMAIN=child.find('elementreference').get('domain')\n",
    "\tstats=child.find('statistics')\n",
    "\t\n",
    "\tfilter = ''\n",
    "\tif erefDOMAIN==\"device\": \n",
    "\t\tfilter='<valuetagfilter filtervalue=\"'+erefID+'\"><tagcategory key=\"Device ID\"/></valuetagfilter>'\n",
    "\tif erefDOMAIN==\"measurement\": \n",
    "\t\tfilter='<valuetagfilter filtervalue=\"'+erefID+'\"><tagcategory key=\"Measurement ID\"/></valuetagfilter>'\n",
    "\tif erefDOMAIN==\"link\": \n",
    "\t\tfilter='<valuetagfilter filtervalue=\"'+erefID+'\"><tagcategory key=\"Link ID\"/></valuetagfilter>'\n",
    "\tfilter='<openalarmfilter>'+filter+'</openalarmfilter>'\n",
    "\tprint('[Adding alarms for '+erefDOMAIN+' element with ID ' + erefID+']', end='')\n",
    "\tresp=requests.post(\"https://\"+server_ip+\":\"+server_port+\"/rest/events/liveopenalarms\", \n",
    "                     verify=False, auth=HTTPBasicAuth(username, pw), \n",
    "                     data=filter, headers={'Content-Type': 'application/xml'})\n",
    "\talarms = ElementTree.fromstring(resp.content)\n",
    "    \n",
    "\tfor openalarm in alarms:\n",
    "\t\talarminfo = openalarm.find('rootcause').get('info')\n",
    "\t\tmonitorid = openalarm.find('rootcause').get('monitorid')            \n",
    "\t\tprint('R', end='')\n",
    "\t\t# Create statistic entry\n",
    "\t\tnewentry=ElementTree.SubElement(stats,'statistic',{'showaslabel': 'false', 'type': 'monitorvalue', 'title': '[ROOT CAUSE] '+alarminfo})\n",
    "\t\tElementTree.SubElement(newentry,'reference', {'obid': monitorid, 'domain': 'monitor'})\n",
    "\t\tElementTree.SubElement(newentry,'time', {'multiplier': '1440', 'type': 'lastminutes', 'timezone': 'Europe/Berlin', 'average': '60000'})\n",
    "\t\tfor symptom in openalarm.findall('symptoms/symptom'):\n",
    "\t\t\talarminfo = symptom.get('info')\n",
    "\t\t\tmonitorid = symptom.get('monitorid')            \n",
    "\t\t\tprint('S', end='')\n",
    "\t\t\t# Create statistic entry\n",
    "\t\t\tnewentry=ElementTree.SubElement(stats,'statistic',{'showaslabel': 'false', 'type': 'monitorvalue', 'title': '[SYMPTOM] '+alarminfo})\n",
    "\t\t\tElementTree.SubElement(newentry,'reference', {'obid': monitorid, 'domain': 'monitor'})\n",
    "\t\t\tElementTree.SubElement(newentry,'time', {'multiplier': '1440', 'type': 'lastminutes', 'timezone': 'Europe/Berlin', 'average': '60000'})\n",
    "\tprint('')\n",
    "\n",
    "tree.set('name',tree.get('name')+' (Alarm Statistics)')\n",
    "        \n",
    "finalMap = ElementTree.tostring(tree)"
   ]
  },
  {
   "cell_type": "markdown",
   "metadata": {},
   "source": [
    "<h2>Adding Extended Weather Map to server as new Weather Map </h2>"
   ]
  },
  {
   "cell_type": "code",
   "execution_count": 9,
   "metadata": {},
   "outputs": [
    {
     "name": "stdin",
     "output_type": "stream",
     "text": [
      "Enter password: ··········\n"
     ]
    }
   ],
   "source": [
    "warnings.filterwarnings(\"ignore\")\n",
    "resp=requests.post(\"https://\"+server_ip+\":\"+server_port+\"/rest/weathermaps/add/\", \n",
    "                     verify=False, auth=HTTPBasicAuth(username, getpass.getpass('Enter password:')), \n",
    "                     data=finalMap, headers={'Content-Type': 'application/xml'})"
   ]
  }
 ],
 "metadata": {
  "kernelspec": {
   "display_name": "Python 3",
   "language": "python",
   "name": "python3"
  },
  "language_info": {
   "codemirror_mode": {
    "name": "ipython",
    "version": 3
   },
   "file_extension": ".py",
   "mimetype": "text/x-python",
   "name": "python",
   "nbconvert_exporter": "python",
   "pygments_lexer": "ipython3",
   "version": "3.8.6"
  }
 },
 "nbformat": 4,
 "nbformat_minor": 4
}
