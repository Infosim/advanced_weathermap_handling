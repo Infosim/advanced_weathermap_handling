{
 "cells": [
  {
   "cell_type": "markdown",
   "metadata": {},
   "source": [
    "<center><img src='https://www.intel.com/content/dam/develop/external/us/en/images/infosim-logo-746616.png' style=\"width:300px\"></center>"
   ]
  },
  {
   "cell_type": "markdown",
   "metadata": {},
   "source": [
    "# StableNet<sup>®</sup> Weather Map Statistics"
   ]
  },
  {
   "cell_type": "markdown",
   "metadata": {},
   "source": [
    "## Introduction\n",
    "This script adds statistics to Weather Maps when given certain parameters as input over a CSV file.  We describe the form the input file has to be of and the script's workflow with an example.  It is important to note that the titles of columns in the input CSV file may not differ from those in the example file.  However, the order of the columns may vary."
   ]
  },
  {
   "cell_type": "markdown",
   "metadata": {},
   "source": [
    "## Example"
   ]
  },
  {
   "cell_type": "markdown",
   "metadata": {},
   "source": [
    "## Program"
   ]
  },
  {
   "cell_type": "markdown",
   "metadata": {},
   "source": [
    "### Imports and code definitions"
   ]
  },
  {
   "cell_type": "markdown",
   "metadata": {},
   "source": [
    "#### Import necessary python modules"
   ]
  },
  {
   "cell_type": "code",
   "execution_count": 549,
   "metadata": {},
   "outputs": [],
   "source": [
    "import warnings\n",
    "import requests\n",
    "from requests.auth import HTTPBasicAuth\n",
    "import getpass\n",
    "from xml.etree import ElementTree\n",
    "import xml.dom.minidom # for pretty printing XML\n",
    "import re # for regular expressions\n",
    "import json\n",
    "import csv\n",
    "import sys"
   ]
  },
  {
   "cell_type": "markdown",
   "metadata": {},
   "source": [
    "#### Function to normalize CSV entries"
   ]
  },
  {
   "cell_type": "code",
   "execution_count": 550,
   "metadata": {},
   "outputs": [],
   "source": [
    "def normalized_entry(entry, i):\n",
    "    if cols[i] == 'lastvalue or measurementstat':\n",
    "        return 'lastvalue' if entry.lower().startswith('l') else 'measurementstat'\n",
    "    if cols[i] == 'statistic default state':\n",
    "        return entry if entry != '' else '0'\n",
    "    if cols[i] == 'showaslabel':\n",
    "        return 'true' if entry.lower().startswith('t') else 'false'\n",
    "    if cols[i] == 'metricscale add':\n",
    "        return entry if entry != '' else '0'\n",
    "    if cols[i] == 'metricscale multiply':\n",
    "        return entry if entry != '' else '1'\n",
    "    if cols[i] == 'time multiplier':\n",
    "        return entry if entry != '' else '1'\n",
    "    if cols[i] == 'time type':\n",
    "        return entry if entry != '' else 'lastmonths'\n",
    "    if cols[i] == 'offset multiplier':\n",
    "        return entry if entry != '' else '0'\n",
    "    if cols[i] == 'offset type':\n",
    "        return entry if entry != '' else 'lastmonths'\n",
    "    if cols[i] == 'node or link':\n",
    "        return 'node' if entry.lower().startswith('n') else 'link'\n",
    "    if cols[i] == 'source or destination':\n",
    "        if entry == '':\n",
    "            return ''\n",
    "        return 'source' if entry.lower().startswith('s') else 'destination'\n",
    "    if cols[i] == 'domain':\n",
    "        if entry.lower().startswith('d'):\n",
    "            return 'device'\n",
    "        if entry.lower().startswith('i'):\n",
    "            return 'interface'\n",
    "        if entry.lower().startswith('me'):\n",
    "            return 'measurement'\n",
    "        if entry.lower().startswith('mon'):\n",
    "            return 'monitor'\n",
    "        if entry.lower().startswith('mod'):\n",
    "            return 'module'\n",
    "        return 'service'\n",
    "    return entry"
   ]
  },
  {
   "cell_type": "markdown",
   "metadata": {},
   "source": [
    "#### Function to create and append statistic tag to Weather Map object (using \\<statistics\\>)"
   ]
  },
  {
   "cell_type": "code",
   "execution_count": 551,
   "metadata": {},
   "outputs": [],
   "source": [
    "def append_stat_tag():\n",
    "    stat_attrs = {'metrickey': metric_key, 'type': stat_props['lastvalue or measurementstat'], \n",
    "                 'title': title, 'ranges': stat_props['statistic ranges'], \n",
    "                 'defaultstate': stat_props['statistic default state'],\n",
    "                 'showaslabel':stat_props['showaslabel']}\n",
    "    statistic = ElementTree.SubElement(\n",
    "        el.find('statistics'), 'statistic', stat_attrs\n",
    "    )\n",
    "    ElementTree.SubElement(\n",
    "        statistic, 'reference', {'obid': meas_id, 'domain': 'measurement'}\n",
    "    )\n",
    "    ElementTree.SubElement(\n",
    "        statistic, 'metricscale', \n",
    "        {\n",
    "            'add': stat_props['metricscale add'], \n",
    "            'multiply': stat_props['metricscale multiply']\n",
    "        }\n",
    "    )\n",
    "    if stat_props['lastvalue or measurementstat'] == 'measurementstat':\n",
    "        ElementTree.SubElement(\n",
    "            statistic, 'time', \n",
    "            {\n",
    "                'multiplier': stat_props['time multiplier'], \n",
    "                'type': stat_props['time type'], \n",
    "                'average': stat_props['time average'],\n",
    "                'offsetmultiplier': stat_props['offset multiplier'], \n",
    "                'offsettype': stat_props['offset type']\n",
    "            }\n",
    "        )"
   ]
  },
  {
   "cell_type": "markdown",
   "metadata": {},
   "source": [
    "#### Functions to obtain measurement for given Weather Map object (using /rest/tag/query)"
   ]
  },
  {
   "cell_type": "code",
   "execution_count": 562,
   "metadata": {},
   "outputs": [],
   "source": [
    "def get_andtagfilter_with_two_valuetagfilters(cat1, val1, cat2, val2):\n",
    "    return '<andtagfilter>\\\n",
    "                <valuetagfilter filtervalue=\"{}\">\\\n",
    "                    <tagcategory key = \"{}\"/>\\\n",
    "                </valuetagfilter>\\\n",
    "                <valuetagfilter filtervalue=\"{}\">\\\n",
    "                    <tagcategory key = \"{}\"/>\\\n",
    "                </valuetagfilter>\\\n",
    "            </andtagfilter>'.format(val1, cat1, val2, cat2)\n",
    "\n",
    "def get_andtagfilter_with_valuetagfilter_and_patterntagfilter(cat1, val, cat2, pat):\n",
    "    return '<andtagfilter>\\\n",
    "                <valuetagfilter filtervalue=\"{}\">\\\n",
    "                    <tagcategory key = \"{}\"/>\\\n",
    "                </valuetagfilter>\\\n",
    "                <patterntagfilter filterpattern=\"{}\">\\\n",
    "                    <tagcategory key = \"{}\"/>\\\n",
    "                </patterntagfilter>\\\n",
    "            </andtagfilter>'.format(val, cat1, pat, cat2)\n",
    "\n",
    "def compute_measurement():\n",
    "    url = 'https://{}:{}/rest/tag/query'.format(server_ip, server_port)\n",
    "    filter = ''\n",
    "    if obj_domain == 'device': \n",
    "        #Here we consider Ping measurements separately because\n",
    "        #the name of the measurement typically is the device name\n",
    "        if stat_props['measurement pattern'] == 'Ping measurement':\n",
    "            filter +=  get_andtagfilter_with_two_valuetagfilters(\n",
    "                'Device ID', obj_id, 'Measurement Type', 'Ping')\n",
    "        else:\n",
    "            filter += get_andtagfilter_with_valuetagfilter_and_patterntagfilter(\n",
    "                'Device ID', obj_id, 'Measurement Name', stat_props['measurement pattern'])\n",
    "    if obj_domain == 'interface':\n",
    "        #Here we consider SNMP Interface measurements separately because\n",
    "        #the name of the measurement typically is the device name\n",
    "        if stat_props['measurement pattern'] == 'Interface measurement':\n",
    "            filter += get_andtagfilter_with_two_valuetagfilters(\n",
    "                'Interface ID', obj_id, 'Measurement Type', 'SNMP Interface')\n",
    "        else:\n",
    "            filter += get_andtagfilter_with_valuetagfilter_and_patterntagfilter(\n",
    "                'Interface ID', obj_id, 'Measurement Name', stat_props['measurement pattern'])\n",
    "    if obj_domain == 'measurement':\n",
    "        filter += get_andtagfilter_with_valuetagfilter_and_patterntagfilter(\n",
    "            'Measurement ID', obj_id, 'Measurement Name', stat_props['measurement pattern'])\n",
    "    if obj_domain == 'monitor':\n",
    "        filter += get_andtagfilter_with_valuetagfilter_and_patterntagfilter(\n",
    "            'Monitor ID', obj_id, 'Measurement Name', stat_props['measurement pattern'])\n",
    "    if obj_domain == 'module':\n",
    "        filter += get_andtagfilter_with_valuetagfilter_and_patterntagfilter(\n",
    "            'Device Module ID', obj_id, 'Measurement Name', stat_props['measurement pattern'])\n",
    "    if obj_domain == 'service':\n",
    "        filter += get_andtagfilter_with_valuetagfilter_and_patterntagfilter(\n",
    "            'Service ID', obj_id, 'Measurement Name', stat_props['measurement pattern'])\n",
    "    query = '<taggablelistqueryinput domain=\"Measurement\">\\\n",
    "                <tagcategories>\\\n",
    "                    <tagcategory key=\"Measurement ID\"/>\\\n",
    "                    <tagcategory key=\"Measurement Name\"/>\\\n",
    "                    </tagcategories>' +\\\n",
    "                filter +\\\n",
    "            '</taggablelistqueryinput>'\n",
    "    resp = requests.post(\n",
    "        url, \n",
    "        data = query,\n",
    "        verify = False, \n",
    "        auth = HTTPBasicAuth(username, pw),\n",
    "        headers = {'Content-Type': 'application/xml'}\n",
    "    )\n",
    "    meas = ElementTree.fromstring(resp.content)\n",
    "    meas_id = ''\n",
    "    meas_name = ''\n",
    "    for element in meas.iter():\n",
    "        if element.tag == 'tag':\n",
    "            if element.get('key') == 'Measurement ID':\n",
    "                meas_id = element.get('value')\n",
    "            elif element.get('key') == 'Measurement Name':\n",
    "                meas_name = element.get('value')\n",
    "        if meas_id != '' and meas_name != '':\n",
    "            break\n",
    "    return (meas_id, meas_name)"
   ]
  },
  {
   "cell_type": "markdown",
   "metadata": {},
   "source": [
    "#### Function to obtain metric key and metric name (making use of /rest/measurements/metric/{id})"
   ]
  },
  {
   "cell_type": "code",
   "execution_count": 553,
   "metadata": {},
   "outputs": [],
   "source": [
    "def compute_metric_key_and_name():\n",
    "    resp = requests.get(\n",
    "            \"https://\" + server_ip + \":\" + server_port + \n",
    "            \"/rest/measurements/metric/\" + meas_id, \n",
    "            verify=False, \n",
    "            auth=HTTPBasicAuth(username, pw)\n",
    "        )\n",
    "    print(\"https://\" + server_ip + \":\" + server_port + \n",
    "            \"/rest/measurements/metric/\" + meas_id)\n",
    "    metrics = ElementTree.fromstring(resp.content)\n",
    "    metric_key = ''\n",
    "    pat1 = re.compile(stat_props['metricname'])\n",
    "    pat2 = re.compile(stat_props['metricunit'])\n",
    "    for metric in metrics.iter():\n",
    "        if pat1.search(str(metric.get('name'))):\n",
    "            if pat2.search(str(metric.get('unit'))):\n",
    "                if stat_props['lastvalue or measurementstat'] == 'measurementstat':\n",
    "                    metric_key = stat_props['aggregate'] + '_'\n",
    "                return (metric_key + metric.get('key'), metric.get('name'))\n",
    "    return ('','')"
   ]
  },
  {
   "cell_type": "markdown",
   "metadata": {},
   "source": [
    "#### Function to generate a standard statistic title (unless it is provided in the CSV file)"
   ]
  },
  {
   "cell_type": "code",
   "execution_count": 554,
   "metadata": {},
   "outputs": [],
   "source": [
    "def compute_statistic_title(input_title, meas_name, metric_name):\n",
    "    title = ''\n",
    "    if input_title != '':\n",
    "        return input_title\n",
    "    else:\n",
    "        if stat_props['node or link'] == 'link':\n",
    "            title = 'Src ' if stat_props['source or destination'] == 'source' else 'Dest '\n",
    "        title += meas_name\n",
    "        return title + metric_name"
   ]
  },
  {
   "cell_type": "markdown",
   "metadata": {},
   "source": [
    "#### Function to request the Weather Map object as XML (using /rest/weathermaps/get/{id})"
   ]
  },
  {
   "cell_type": "code",
   "execution_count": 555,
   "metadata": {},
   "outputs": [],
   "source": [
    "def request_weathermap():\n",
    "    url = \"https://{}:{}/rest/weathermaps/get/{}\".format(server_ip, server_port, wmap_id)\n",
    "    resp = requests.get(\n",
    "        url,\n",
    "        verify=False, \n",
    "        auth=HTTPBasicAuth(username, pw)\n",
    "    )\n",
    "    #print (xml.dom.minidom.parseString(resp.content.decode('utf-8')).toprettyxml())\n",
    "    wmap = ElementTree.fromstring(resp.content)\n",
    "    if wmap.tag == 'error':\n",
    "        print('weathermap with id {} does not exist on server {}:{}'\\\n",
    "            .format(wmap_id, server_ip, server_port))\n",
    "        sys.exit()\n",
    "    # if flag is set, delete all existing statistics\n",
    "    if delete_existing_stats:\n",
    "        for el in wmap.iter():\n",
    "            if el.tag == 'statistics':\n",
    "                el.clear()\n",
    "    return wmap"
   ]
  },
  {
   "cell_type": "markdown",
   "metadata": {},
   "source": [
    "#### Function to check whether current object is relevant for the current line of the CSV file"
   ]
  },
  {
   "cell_type": "code",
   "execution_count": 556,
   "metadata": {},
   "outputs": [],
   "source": [
    "def relevance_check():\n",
    "    if obj_domain != stat_props['domain']:\n",
    "        return False\n",
    "    #test whether the name of the weathermapnode matches stat_props['pattern for node name']\n",
    "    if stat_props['pattern for node name'] == '' or el.tag != 'weathermapnode':\n",
    "        return True\n",
    "    pattern = re.compile(stat_props['pattern for node name'])\n",
    "    if pattern.search(str(el.get('name'))) is None:\n",
    "        return False\n",
    "    return True"
   ]
  },
  {
   "cell_type": "markdown",
   "metadata": {},
   "source": [
    "### Actual program code to handle Weather Maps"
   ]
  },
  {
   "cell_type": "markdown",
   "metadata": {},
   "source": [
    "<span style=\"color:red\">Select this cell and run in menu: \"Run > Run All Above Selected Cell\"</span>"
   ]
  },
  {
   "cell_type": "markdown",
   "metadata": {},
   "source": [
    "#### Provide server credentials"
   ]
  },
  {
   "cell_type": "code",
   "execution_count": 557,
   "metadata": {},
   "outputs": [
    {
     "name": "stdin",
     "output_type": "stream",
     "text": [
      "Enter password for user infosim on server: ··········\n"
     ]
    }
   ],
   "source": [
    "#Credentials of server\n",
    "server_ip = '10.20.20.113'\n",
    "server_port = '5443'\n",
    "username = 'infosim'\n",
    "pw=getpass.getpass('Enter password for user ' + username + ' on server A:')"
   ]
  },
  {
   "cell_type": "markdown",
   "metadata": {},
   "source": [
    "#### Check server credentials and get List of Weather Maps from Server"
   ]
  },
  {
   "cell_type": "code",
   "execution_count": 558,
   "metadata": {},
   "outputs": [
    {
     "name": "stdout",
     "output_type": "stream",
     "text": [
      "WeatherMap 1022: ACI\n",
      "WeatherMap 1016: Bike Rental Station\n",
      "WeatherMap 1098: GeoMapTest\n",
      "WeatherMap 1028: Infosim Datacenter\n",
      "WeatherMap 1058: Infosim Datacenter (Base)\n",
      "WeatherMap 1126: Infosim Datacenter (Base) (Alarm Statistics)\n",
      "WeatherMap 1127: Infosim Datacenter (Base) (Forecast)\n",
      "WeatherMap 1128: Infosim Datacenter (Base) (Q95 last month)\n",
      "WeatherMap 1130: Infosim Datacenter (Base) (TREND last 3 months)\n",
      "WeatherMap 1091: MS - Weathermap\n",
      "WeatherMap 1047: Routerlab\n",
      "WeatherMap 1120: Routerlab (Base)\n",
      "WeatherMap 1121: Routerlab (Base) (Alarm Statistics)\n",
      "WeatherMap 1125: Routerlab (Base) (in/out-discards)\n",
      "WeatherMap 1122: Routerlab (Base) (in/out-errors)\n",
      "WeatherMap 1123: Routerlab (Base) (reachability)\n",
      "WeatherMap 1051: Routerlab Fraport\n",
      "WeatherMap 1008: StableNet Health\n",
      "WeatherMap 1045: vLab - GeoMap\n",
      "WeatherMap 1041: vLab - Structure\n",
      "WeatherMap 1029: vLab Juniper - BGPv4 Sessions\n",
      "WeatherMap 1050: VoIP Monitoring\n",
      "WeatherMap 1027: Wi-Fi - Layout 3rd Floor\n",
      "WeatherMap 1043: Wi-Fi - Layout 4th Floor\n",
      "WeatherMap 1042: WiFi Structure\n"
     ]
    }
   ],
   "source": [
    "warnings.filterwarnings(\"ignore\")\n",
    "resp = requests.get(\n",
    "    \"https://\"+server_ip+\":\"+server_port+\"/rest/weathermaps/list\", \n",
    "    verify=False, \n",
    "    auth=HTTPBasicAuth(username, pw)\n",
    ")\n",
    "tree = ElementTree.fromstring(resp.content)\n",
    "if tree.tag == 'html':\n",
    "    print('wrong credentials inserted')\n",
    "    sys.exit()\n",
    "for wmap in tree:\n",
    "    wmap_name = wmap.get('name') if wmap.get('name') is not None else ''\n",
    "    print('WeatherMap ' + wmap.get('obid') + ': ' + wmap_name)"
   ]
  },
  {
   "cell_type": "markdown",
   "metadata": {},
   "source": [
    "#### Define input parameters for script"
   ]
  },
  {
   "cell_type": "code",
   "execution_count": 559,
   "metadata": {},
   "outputs": [],
   "source": [
    "delete_existing_stats = True#if True, all existing statistics are deleted from the weathermap\n",
    "wmap_suffix = '_TREND';\n",
    "wmap_id = '1058'\n",
    "csv_file_name = 'input_node_trend.csv'"
   ]
  },
  {
   "cell_type": "markdown",
   "metadata": {},
   "source": [
    "#### Read in statistic configuration from CSV file"
   ]
  },
  {
   "cell_type": "code",
   "execution_count": 560,
   "metadata": {},
   "outputs": [
    {
     "name": "stdout",
     "output_type": "stream",
     "text": [
      "Line: 1\n",
      "\t\tmeasurement pattern: \n",
      "\t\taggregate: TREND\n",
      "\t\tmetricname: CPU\n",
      "\t\tmetricunit: Hz\n",
      "\t\tlastvalue or measurementstat: measurementstat\n",
      "\t\tstatistic title: CPU\n",
      "\t\tstatistic ranges: -Infinity/-1e3/0,-1e3/1e3/-1,1e3/Infinity/4000\n",
      "\t\tstatistic default state: 0\n",
      "\t\tshowaslabel: true\n",
      "\t\tmetricscale add: 0\n",
      "\t\tmetricscale multiply: 1\n",
      "\t\ttime multiplier: 3\n",
      "\t\ttime type: Lastmonths\n",
      "\t\toffset multiplier: 0\n",
      "\t\toffset type: lastmonths\n",
      "\t\ttime average: 60000\n",
      "\t\tnode or link: node\n",
      "\t\tpattern for node name: \n",
      "\t\tsource or destination: \n",
      "\t\tdomain: measurement\n",
      "Line: 2\n",
      "\t\tmeasurement pattern: \n",
      "\t\taggregate: TREND\n",
      "\t\tmetricname: Guest Memory\n",
      "\t\tmetricunit: MB\n",
      "\t\tlastvalue or measurementstat: measurementstat\n",
      "\t\tstatistic title: RAM\n",
      "\t\tstatistic ranges: -Infinity/-1e3/0,-1e3/1e3/-1,1e3/Infinity/4000\n",
      "\t\tstatistic default state: 0\n",
      "\t\tshowaslabel: true\n",
      "\t\tmetricscale add: 0\n",
      "\t\tmetricscale multiply: 1\n",
      "\t\ttime multiplier: 3\n",
      "\t\ttime type: Lastmonths\n",
      "\t\toffset multiplier: 0\n",
      "\t\toffset type: lastmonths\n",
      "\t\ttime average: 60000\n",
      "\t\tnode or link: node\n",
      "\t\tpattern for node name: \n",
      "\t\tsource or destination: \n",
      "\t\tdomain: measurement\n",
      "Line: 3\n",
      "\t\tmeasurement pattern: Host\n",
      "\t\taggregate: TREND\n",
      "\t\tmetricname: Memory\n",
      "\t\tmetricunit: %\n",
      "\t\tlastvalue or measurementstat: measurementstat\n",
      "\t\tstatistic title: RAM\n",
      "\t\tstatistic ranges: -Infinity/-1e1/0,-1e1/1e1/-1,1e1/Infinity/4000\n",
      "\t\tstatistic default state: 0\n",
      "\t\tshowaslabel: true\n",
      "\t\tmetricscale add: 0\n",
      "\t\tmetricscale multiply: 1\n",
      "\t\ttime multiplier: 3\n",
      "\t\ttime type: Lastmonths\n",
      "\t\toffset multiplier: 0\n",
      "\t\toffset type: lastmonths\n",
      "\t\ttime average: 60000\n",
      "\t\tnode or link: node\n",
      "\t\tpattern for node name: \n",
      "\t\tsource or destination: \n",
      "\t\tdomain: measurement\n",
      "Line: 4\n",
      "\t\tmeasurement pattern: Datastore\n",
      "\t\taggregate: TREND\n",
      "\t\tmetricname: Free\n",
      "\t\tmetricunit: %\n",
      "\t\tlastvalue or measurementstat: measurementstat\n",
      "\t\tstatistic title: Free Space\n",
      "\t\tstatistic ranges: -Infinity/-1e1/4000,-1e1/1e1/-1,1e1/Infinity/0\n",
      "\t\tstatistic default state: 0\n",
      "\t\tshowaslabel: true\n",
      "\t\tmetricscale add: 0\n",
      "\t\tmetricscale multiply: 1\n",
      "\t\ttime multiplier: 3\n",
      "\t\ttime type: Lastmonths\n",
      "\t\toffset multiplier: 0\n",
      "\t\toffset type: lastmonths\n",
      "\t\ttime average: 60000\n",
      "\t\tnode or link: node\n",
      "\t\tpattern for node name: \n",
      "\t\tsource or destination: \n",
      "\t\tdomain: measurement\n",
      "Line: 5\n",
      "\t\tmeasurement pattern: Processor Total\n",
      "\t\taggregate: TREND\n",
      "\t\tmetricname: total\n",
      "\t\tmetricunit: %\n",
      "\t\tlastvalue or measurementstat: measurementstat\n",
      "\t\tstatistic title: CPU Total\n",
      "\t\tstatistic ranges: -Infinity/-1e1/0,-1e1/1e1/-1,1e1/Infinity/4000\n",
      "\t\tstatistic default state: 0\n",
      "\t\tshowaslabel: true\n",
      "\t\tmetricscale add: 0\n",
      "\t\tmetricscale multiply: 1\n",
      "\t\ttime multiplier: 3\n",
      "\t\ttime type: Lastmonths\n",
      "\t\toffset multiplier: 0\n",
      "\t\toffset type: lastmonths\n",
      "\t\ttime average: 60000\n",
      "\t\tnode or link: node\n",
      "\t\tpattern for node name: \n",
      "\t\tsource or destination: \n",
      "\t\tdomain: device\n",
      "Line: 6\n",
      "\t\tmeasurement pattern: Ping measurement\n",
      "\t\taggregate: TREND\n",
      "\t\tmetricname: Availability\n",
      "\t\tmetricunit: %\n",
      "\t\tlastvalue or measurementstat: measurementstat\n",
      "\t\tstatistic title: Availability\n",
      "\t\tstatistic ranges: -Infinity/-1/4000,-1/1/-1,1/Infinity/0\n",
      "\t\tstatistic default state: 0\n",
      "\t\tshowaslabel: true\n",
      "\t\tmetricscale add: 0\n",
      "\t\tmetricscale multiply: 1\n",
      "\t\ttime multiplier: 3\n",
      "\t\ttime type: Lastmonths\n",
      "\t\toffset multiplier: 0\n",
      "\t\toffset type: lastmonths\n",
      "\t\ttime average: 60000\n",
      "\t\tnode or link: node\n",
      "\t\tpattern for node name: \n",
      "\t\tsource or destination: \n",
      "\t\tdomain: device\n"
     ]
    }
   ],
   "source": [
    "inputs = []\n",
    "cols = []\n",
    "with open(csv_file_name, newline='') as csvfile:\n",
    "    reader = csv.reader(csvfile, delimiter=';', quotechar='\\'')\n",
    "    first_line = True\n",
    "    for row in reader:\n",
    "        if not first_line:\n",
    "            inputs += [{}]\n",
    "            for i in range(0, len(row)):\n",
    "                inputs[-1][cols[i]] = normalized_entry(row[i], i)\n",
    "        else:\n",
    "            for entry in row:\n",
    "                cols += [entry]\n",
    "            first_line = False\n",
    "        if len(row) != len(cols):\n",
    "            print('Malformed csv file: '\n",
    "                  'not all lines of same length')\n",
    "            break\n",
    "for j in range(0, len(inputs)):\n",
    "    print('Line: ' + str(j+1))\n",
    "    for i in range(0, len(cols)):\n",
    "        print('\\t\\t' + cols[i] + ': ' + inputs[j][cols[i]])"
   ]
  },
  {
   "cell_type": "markdown",
   "metadata": {},
   "source": [
    "#### Add statistics to Weather Map XML and post it to server"
   ]
  },
  {
   "cell_type": "code",
   "execution_count": 563,
   "metadata": {},
   "outputs": [
    {
     "name": "stdout",
     "output_type": "stream",
     "text": [
      "Processing line 1 of input file\n",
      "https://10.20.20.113:5443/rest/measurements/metric/3834\n",
      "measurement 3834 Statistic added\n",
      "https://10.20.20.113:5443/rest/measurements/metric/3847\n",
      "measurement 3847 Statistic added\n",
      "https://10.20.20.113:5443/rest/measurements/metric/3848\n",
      "measurement 3848 Statistic added\n",
      "https://10.20.20.113:5443/rest/measurements/metric/3850\n",
      "measurement 3850 Statistic added\n",
      "https://10.20.20.113:5443/rest/measurements/metric/3750\n",
      "measurement 3750 Statistic added\n",
      "https://10.20.20.113:5443/rest/measurements/metric/3832\n",
      "measurement 3832 Statistic added\n",
      "https://10.20.20.113:5443/rest/measurements/metric/3572\n",
      "measurement 3572: Requested metric not found\n",
      "https://10.20.20.113:5443/rest/measurements/metric/3573\n",
      "measurement 3573: Requested metric not found\n",
      "https://10.20.20.113:5443/rest/measurements/metric/3833\n",
      "measurement 3833 Statistic added\n",
      "https://10.20.20.113:5443/rest/measurements/metric/3836\n",
      "measurement 3836 Statistic added\n",
      "https://10.20.20.113:5443/rest/measurements/metric/4677\n",
      "measurement 4677 Statistic added\n",
      "https://10.20.20.113:5443/rest/measurements/metric/5277\n",
      "measurement 5277 Statistic added\n",
      "Processing line 2 of input file\n",
      "https://10.20.20.113:5443/rest/measurements/metric/3834\n",
      "measurement 3834 Statistic added\n",
      "https://10.20.20.113:5443/rest/measurements/metric/3847\n",
      "measurement 3847 Statistic added\n",
      "https://10.20.20.113:5443/rest/measurements/metric/3848\n",
      "measurement 3848 Statistic added\n",
      "https://10.20.20.113:5443/rest/measurements/metric/3850\n",
      "measurement 3850 Statistic added\n",
      "https://10.20.20.113:5443/rest/measurements/metric/3750\n",
      "measurement 3750: Requested metric not found\n",
      "https://10.20.20.113:5443/rest/measurements/metric/3832\n",
      "measurement 3832: Requested metric not found\n",
      "https://10.20.20.113:5443/rest/measurements/metric/3572\n",
      "measurement 3572: Requested metric not found\n",
      "https://10.20.20.113:5443/rest/measurements/metric/3573\n",
      "measurement 3573: Requested metric not found\n",
      "https://10.20.20.113:5443/rest/measurements/metric/3833\n",
      "measurement 3833 Statistic added\n",
      "https://10.20.20.113:5443/rest/measurements/metric/3836\n",
      "measurement 3836 Statistic added\n",
      "https://10.20.20.113:5443/rest/measurements/metric/4677\n",
      "measurement 4677 Statistic added\n",
      "https://10.20.20.113:5443/rest/measurements/metric/5277\n",
      "measurement 5277 Statistic added\n",
      "Processing line 3 of input file\n",
      "measurement 3834Requested measurement not found\n",
      "measurement 3847Requested measurement not found\n",
      "measurement 3848Requested measurement not found\n",
      "measurement 3850Requested measurement not found\n",
      "https://10.20.20.113:5443/rest/measurements/metric/3750\n",
      "measurement 3750 Statistic added\n",
      "https://10.20.20.113:5443/rest/measurements/metric/3832\n",
      "measurement 3832 Statistic added\n",
      "measurement 3572Requested measurement not found\n",
      "measurement 3573Requested measurement not found\n",
      "measurement 3833Requested measurement not found\n",
      "measurement 3836Requested measurement not found\n",
      "measurement 4677Requested measurement not found\n",
      "measurement 5277Requested measurement not found\n",
      "Processing line 4 of input file\n",
      "measurement 3834Requested measurement not found\n",
      "measurement 3847Requested measurement not found\n",
      "measurement 3848Requested measurement not found\n",
      "measurement 3850Requested measurement not found\n",
      "measurement 3750Requested measurement not found\n",
      "measurement 3832Requested measurement not found\n",
      "https://10.20.20.113:5443/rest/measurements/metric/3572\n",
      "measurement 3572 Statistic added\n",
      "https://10.20.20.113:5443/rest/measurements/metric/3573\n",
      "measurement 3573 Statistic added\n",
      "measurement 3833Requested measurement not found\n",
      "measurement 3836Requested measurement not found\n",
      "measurement 4677Requested measurement not found\n",
      "measurement 5277Requested measurement not found\n",
      "Processing line 5 of input file\n",
      "https://10.20.20.113:5443/rest/measurements/metric/3564\n",
      "device 1072     Statistic added\n",
      "Processing line 6 of input file\n",
      "https://10.20.20.113:5443/rest/measurements/metric/3524\n",
      "device 1072     Statistic added\n"
     ]
    }
   ],
   "source": [
    "wmap = request_weathermap() # Request Weather Map with wmap_id from server previously defined\n",
    "i = 0\n",
    "for stat_props in inputs:\n",
    "    i += 1\n",
    "    print('Processing line {} of input file'.format(str(i)))\n",
    "    for el in wmap.findall('weathermapnodes/weathermapnode')\\\n",
    "        + wmap.findall('weathermaplinks/weathermaplink'):\n",
    "        reference_tag = 'elementreference'\n",
    "        if stat_props['node or link'] == 'link':\n",
    "            reference_tag = 'sourcereference' if stat_props['source or destination'] == 'source'\\\n",
    "                else 'destinationreference'\n",
    "        obj_ref = el.find(reference_tag)\n",
    "        if not hasattr(obj_ref, 'get'):\n",
    "            continue\n",
    "        obj_id = obj_ref.get('obid')\n",
    "        obj_domain = obj_ref.get('domain')\n",
    "        if not relevance_check():\n",
    "            continue\n",
    "        (meas_id, meas_name) = compute_measurement()\n",
    "        if meas_id == '' or meas_name == '':\n",
    "            print('{:15}'.format(obj_domain + ' ' + obj_id) + 'Requested measurement not found')\n",
    "            continue\n",
    "        (metric_key, metric_name) = compute_metric_key_and_name()           \n",
    "        if metric_key == '':\n",
    "            print('{:15}'.format(obj_domain + ' ' + obj_id) + ': Requested metric not found')\n",
    "            continue\n",
    "        title = compute_statistic_title(stat_props['statistic title'],meas_name, metric_name)\n",
    "        append_stat_tag()\n",
    "        print('{:15}'.format(obj_domain + ' ' + obj_id) + ' Statistic added')\n",
    "wmap.set('name', wmap.get('name') + wmap_suffix)\n",
    "#print(xml.dom.minidom.parseString(ElementTree.tostring(wmap)).toprettyxml())\n",
    "resp = requests.post(\n",
    "    \"https://\" + server_ip + \":\" + server_port + \"/rest/weathermaps/add/\", \n",
    "    verify = False, \n",
    "    auth = HTTPBasicAuth(username, pw), \n",
    "    data = ElementTree.tostring(wmap), \n",
    "    headers = {'Content-Type': 'application/xml'}\n",
    ")\n",
    "#print (xml.dom.minidom.parseString(resp.content.decode('utf-8')).toprettyxml())"
   ]
  }
 ],
 "metadata": {
  "kernelspec": {
   "display_name": "Python 3",
   "language": "python",
   "name": "python3"
  },
  "language_info": {
   "codemirror_mode": {
    "name": "ipython",
    "version": 3
   },
   "file_extension": ".py",
   "mimetype": "text/x-python",
   "name": "python",
   "nbconvert_exporter": "python",
   "pygments_lexer": "ipython3",
   "version": "3.8.6"
  }
 },
 "nbformat": 4,
 "nbformat_minor": 4
}
