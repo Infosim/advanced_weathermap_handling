{
 "cells": [
  {
   "cell_type": "markdown",
   "metadata": {},
   "source": [
    "<center><img src='https://www.intel.com/content/dam/develop/external/us/en/images/infosim-logo-746616.png' style=\"width:300px\"></center>"
   ]
  },
  {
   "cell_type": "markdown",
   "metadata": {},
   "source": [
    "<h1 align=\"center\">StableNet® WeatherMap Transfer - Copy to Filesystem</h1> \n",
    "<h2>Import necessary python modules</h2>"
   ]
  },
  {
   "cell_type": "code",
   "execution_count": 1,
   "metadata": {},
   "outputs": [],
   "source": [
    "import warnings\n",
    "import requests\n",
    "from requests.auth import HTTPBasicAuth\n",
    "import getpass\n",
    "from xml.etree import ElementTree\n",
    "from pathlib import Path\n",
    "import os"
   ]
  },
  {
   "cell_type": "markdown",
   "metadata": {},
   "source": [
    "<h2>Enter server credentials and the destination path to be used as base</h2>\n",
    "\n",
    "It is possible to enter either the cleartext or the hashed password for the credentials. However, using the hash is more secure."
   ]
  },
  {
   "cell_type": "code",
   "execution_count": null,
   "metadata": {},
   "outputs": [],
   "source": [
    "server_ip = '10.20.20.46'\n",
    "server_port = '5443'\n",
    "username = 'infosim'\n",
    "\n",
    "pw=getpass.getpass('Enter password-hash for user ' + username + ' on the server:');\n",
    "\n",
    "path = Path.cwd() # the current path (equal to \"pwd\" in bash)\n",
    "\n",
    "print(\"You are currently in directory \" + str(path))\n",
    "new_directory = input(\"Enter the destination directory (Relative or absolute path):\")\n",
    "path = Path(new_directory)\n",
    "if not os.path.exists(path):\n",
    "\tval = input(\"The path \" + str(path) + \" does not exist yet. Do you want to create it? (y/n)\")\n",
    "\tif val == \"y\":\n",
    "\t\tos.makedirs(path)\n",
    "\telse:\n",
    "\t\traise SystemExit(\"Exiting...\")"
   ]
  },
  {
   "cell_type": "markdown",
   "metadata": {},
   "source": [
    "<h2>Get List of Weather Maps from the Server and save XML to variable</h2>"
   ]
  },
  {
   "cell_type": "code",
   "execution_count": null,
   "metadata": {},
   "outputs": [],
   "source": [
    "warnings.filterwarnings(\"ignore\")\n",
    "resp = requests.get(\"https://\"+server_ip+\":\"+server_port+\"/rest/weathermaps/list\", \n",
    "                    verify=False, auth=HTTPBasicAuth(username, pw))\n",
    "tree = ElementTree.fromstring(resp.content)\n",
    "for wmap in tree:\n",
    "\tprint('WeatherMap '+wmap.get('obid')+': '+wmap.get('name'))"
   ]
  },
  {
   "cell_type": "markdown",
   "metadata": {},
   "source": [
    "<h2>Transfer selected Weather Maps from the Server to the Filesystem</h2>"
   ]
  },
  {
   "cell_type": "code",
   "execution_count": null,
   "metadata": {},
   "outputs": [],
   "source": [
    "for wmapid in [wmap.get('obid') for wmap in tree]:\n",
    "\tprint('Transferring map '+wmapid)\n",
    "\tresp = requests.get(\"https://\"+server_ip+\":\"+server_port+\"/rest/weathermaps/get/\" + wmapid, \n",
    "\t                    verify=False, auth=HTTPBasicAuth(username, pw))\n",
    "\twmap = ElementTree.fromstring(resp.content)  \n",
    "\tfilename = str(wmapid) + '-' + wmap.get('name') + '.xml'\n",
    "\tdestination = path / filename\n",
    "\ttree = ElementTree.ElementTree(wmap)\n",
    "\ttree.write(destination)"
   ]
  }
 ],
 "metadata": {
  "kernelspec": {
   "display_name": "Python 3",
   "language": "python",
   "name": "python3"
  },
  "language_info": {
   "codemirror_mode": {
    "name": "ipython",
    "version": 3
   },
   "file_extension": ".py",
   "mimetype": "text/x-python",
   "name": "python",
   "nbconvert_exporter": "python",
   "pygments_lexer": "ipython3",
   "version": "3.8.6"
  }
 },
 "nbformat": 4,
 "nbformat_minor": 4
}
