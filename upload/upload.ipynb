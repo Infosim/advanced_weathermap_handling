{
 "cells": [
  {
   "cell_type": "markdown",
   "metadata": {},
   "source": [
    "<center><img src='https://www.intel.com/content/dam/develop/external/us/en/images/infosim-logo-746616.png' style=\"width:300px\"></center>"
   ]
  },
  {
   "cell_type": "markdown",
   "metadata": {},
   "source": [
    "<h1 align=\"center\">StableNet® WeatherMap Restore from Filesystem (XML)</h1> \n",
    "<h2>Import necessary python modules</h2>"
   ]
  },
  {
   "cell_type": "code",
   "execution_count": 26,
   "metadata": {},
   "outputs": [],
   "source": [
    "import warnings\n",
    "import requests\n",
    "from requests.auth import HTTPBasicAuth\n",
    "import getpass\n",
    "from xml.etree import ElementTree\n",
    "from pathlib import Path\n",
    "import os, glob\n",
    "import io\n",
    "import re\n",
    "import PIL.Image as Image\n",
    "import shutil"
   ]
  },
  {
   "cell_type": "markdown",
   "metadata": {},
   "source": [
    "<h2>Enter server credentials and the source filesystem path to be used as base</h2>\n",
    "\n",
    "It is possible to enter either the cleartext or the hashed password for the credentials. However, using the hash is more secure."
   ]
  },
  {
   "cell_type": "code",
   "execution_count": 5,
   "metadata": {},
   "outputs": [
    {
     "name": "stdin",
     "output_type": "stream",
     "text": [
      "Enter password-hash for user infosim on the server: ··········\n"
     ]
    },
    {
     "name": "stdout",
     "output_type": "stream",
     "text": [
      "You are currently in directory /home/jovyan/WeatherMap Handling\n",
      "The path backup_10.20.20.113 could be found and will be used as base for Weathermap restore\n"
     ]
    }
   ],
   "source": [
    "server_ip = '10.20.20.113'\n",
    "server_port = '5443'\n",
    "username = 'infosim'\n",
    "\n",
    "pw=getpass.getpass('Enter password-hash for user ' + username + ' on the server:');\n",
    "\n",
    "path = Path.cwd() # the current path (equal to \"pwd\" in bash)\n",
    "\n",
    "print(\"You are currently in directory \" + str(path))\n",
    "new_directory = \"backup_\" + server_ip #input(\"Enter the destination directory (Relative or absolute path):\")\n",
    "path = Path(new_directory)\n",
    "if not os.path.exists(path):\n",
    "\traise SystemExit(\"The path \" + str(path) + \" does not exist yet. Please provide an existing folder to read in the Weathermaps from the filesystem\")\n",
    "else:\n",
    "\tprint(\"The path \" + str(path) + \" could be found and will be used as base for Weathermap restore\")"
   ]
  },
  {
   "cell_type": "markdown",
   "metadata": {},
   "source": [
    "<h2>Get List of Weather Maps from the Filesystem and print name and id</h2>"
   ]
  },
  {
   "cell_type": "code",
   "execution_count": 16,
   "metadata": {},
   "outputs": [
    {
     "name": "stdout",
     "output_type": "stream",
     "text": [
      "WeatherMap 1008: StableNet Health\n",
      "WeatherMap 1016: Bike Rental Station\n",
      "WeatherMap 1022: ACI\n",
      "WeatherMap 1027: Wi-Fi - Layout 3rd Floor\n",
      "WeatherMap 1028: Infosim Datacenter\n",
      "WeatherMap 1029: vLab Juniper - BGPv4 Sessions\n",
      "WeatherMap 1041: vLab - Structure\n",
      "WeatherMap 1042: WiFi Structure\n",
      "WeatherMap 1043: Wi-Fi - Layout 4th Floor\n",
      "WeatherMap 1045: vLab - GeoMap\n",
      "WeatherMap 1047: Routerlab\n",
      "WeatherMap 1050: VoIP Monitoring\n",
      "WeatherMap 1051: Routerlab Fraport\n",
      "WeatherMap 1058: Infosim Datacenter (Base)\n",
      "WeatherMap 1091: MS - Weathermap\n",
      "WeatherMap 1098: GeoMapTest\n",
      "WeatherMap 1120: Routerlab (Base)\n",
      "WeatherMap 1121: Routerlab (Base) (Alarm Statistics)\n",
      "WeatherMap 1122: Routerlab (Base) (in/out-errors)\n",
      "WeatherMap 1123: Routerlab (Base) (reachability)\n",
      "WeatherMap 1125: Routerlab (Base) (in/out-discards)\n",
      "WeatherMap 1126: Infosim Datacenter (Base) (Alarm Statistics)\n",
      "WeatherMap 1127: Infosim Datacenter (Base) (Forecast)\n",
      "WeatherMap 1128: Infosim Datacenter (Base) (Q95 last month)\n",
      "WeatherMap 1130: Infosim Datacenter (Base) (TREND last 3 months)\n",
      "WeatherMap 1133: WiFi Structure (Base)\n",
      "WeatherMap 1138: WiFi Structure (Base) (Q95 last month)\n",
      "WeatherMap 1141: WiFi Structure (Base) (MAX last month)\n",
      "WeatherMap 1142: WiFi Structure (Base) (Forecast MAX+25%)\n",
      "WeatherMap 1143: Routerlab (Overview)\n",
      "WeatherMap 1144: Empty Map\n",
      "WeatherMap 1147: WeatherMap Gallery\n",
      "WeatherMap 1152: WeatherMap Gallery\n"
     ]
    }
   ],
   "source": [
    "for filename in sorted(os.listdir(path)):\n",
    "\tif not filename.endswith('.xml'): continue\n",
    "\tfullname = os.path.join(path, filename)\n",
    "\twmap = ElementTree.parse(fullname).getroot()\n",
    "\tif 'name' in wmap.attrib: \n",
    "\t\tprint('WeatherMap '+wmap.get('obid')+': '+wmap.get('name'))\n",
    "\telse:\n",
    "\t\twmap.set('name',wmap.get('obid'))\n",
    "\t\tprint('WeatherMap '+wmap.get('obid'))"
   ]
  },
  {
   "cell_type": "markdown",
   "metadata": {},
   "source": [
    "<h2>Restore selected Weather Map to the Server</h2>"
   ]
  },
  {
   "cell_type": "code",
   "execution_count": 40,
   "metadata": {},
   "outputs": [
    {
     "name": "stdout",
     "output_type": "stream",
     "text": [
      "Restoring map 1041 from file backup_10.20.20.113/1041-vLab___Structure.xml\n"
     ]
    }
   ],
   "source": [
    "for wmapid in [1041]:\n",
    "\tmap = glob.glob(os.path.join(path,str(wmapid)+\"*\"+\".xml\"))    \n",
    "\tif len(map)>0:            \n",
    "\t\tprint('Restoring map '+str(wmapid)+\" from file \"+ map[0])\n",
    "\t\twmap = ElementTree.parse(map[0]).getroot()\n",
    "\t\twarnings.filterwarnings(\"ignore\")\n",
    "\t\tresp = requests.post(\"https://{}:{}/rest/weathermaps/add/\"\\\n",
    "\t\t.format(server_ip, server_port), \n",
    "\t\tverify=False,\n",
    "\t\tauth=HTTPBasicAuth(username, pw), \n",
    "\t\tdata=ElementTree.tostring(wmap),\n",
    "\t\theaders={'Content-Type': 'application/xml'}\n",
    "\t\t)"
   ]
  }
 ],
 "metadata": {
  "kernelspec": {
   "display_name": "Python 3",
   "language": "python",
   "name": "python3"
  },
  "language_info": {
   "codemirror_mode": {
    "name": "ipython",
    "version": 3
   },
   "file_extension": ".py",
   "mimetype": "text/x-python",
   "name": "python",
   "nbconvert_exporter": "python",
   "pygments_lexer": "ipython3",
   "version": "3.8.6"
  }
 },
 "nbformat": 4,
 "nbformat_minor": 4
}
